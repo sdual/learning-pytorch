{
 "cells": [
  {
   "cell_type": "code",
   "execution_count": 1,
   "id": "strategic-hanging",
   "metadata": {},
   "outputs": [],
   "source": [
    "import numpy as np\n",
    "import math"
   ]
  },
  {
   "cell_type": "code",
   "execution_count": 2,
   "id": "broadband-congress",
   "metadata": {},
   "outputs": [],
   "source": [
    "x = np.linspace(-math.pi, math.pi, 2000)\n",
    "y = np.sin(x)"
   ]
  },
  {
   "cell_type": "code",
   "execution_count": 3,
   "id": "quick-apollo",
   "metadata": {},
   "outputs": [],
   "source": [
    "a = np.random.randn()\n",
    "b = np.random.randn()\n",
    "c = np.random.randn()\n",
    "d = np.random.randn()"
   ]
  },
  {
   "cell_type": "code",
   "execution_count": 4,
   "id": "radio-shakespeare",
   "metadata": {},
   "outputs": [],
   "source": [
    "learning_rate = 1e-6"
   ]
  },
  {
   "cell_type": "code",
   "execution_count": 5,
   "id": "lightweight-browse",
   "metadata": {},
   "outputs": [
    {
     "name": "stdout",
     "output_type": "stream",
     "text": [
      "99 386.0341717667157\n",
      "199 270.4432006060777\n",
      "299 190.4467198757764\n",
      "399 135.02629913600651\n",
      "499 96.59431199964924\n",
      "599 69.91783162183349\n",
      "699 51.38400853576107\n",
      "799 38.495874527820305\n",
      "899 29.525902849105837\n",
      "999 23.27769702129589\n",
      "1099 18.921877407122608\n",
      "1199 15.882940114034957\n",
      "1299 13.761172308726564\n",
      "1399 12.278704592933838\n",
      "1499 11.242200535377549\n",
      "1599 10.517026268671383\n",
      "1699 10.009350065543966\n",
      "1799 9.65372535755799\n",
      "1899 9.404469335867857\n",
      "1999 9.229671438211437\n",
      "Result: y = -0.020313553674475016 + 0.8502774868446916 x + 0.0035044260278391166 x^2 + -0.09241103290041162 x^3\n"
     ]
    }
   ],
   "source": [
    "for t in range(2000):\n",
    "    y_pred = a + b * x + c * x**2 + d * x**3\n",
    "    loss = np.square(y_pred - y).sum()\n",
    "    if t % 100 == 99:\n",
    "        print(t, loss)\n",
    "        \n",
    "    grad_y_pred = 2.0 * (y_pred - y)\n",
    "    grad_a = grad_y_pred.sum()\n",
    "    grad_b = (grad_y_pred * x).sum()\n",
    "    grad_c = (grad_y_pred * x ** 2).sum()\n",
    "    grad_d = (grad_y_pred * x ** 3).sum()\n",
    "    \n",
    "    a -= learning_rate * grad_a\n",
    "    b -= learning_rate * grad_b\n",
    "    c -= learning_rate * grad_c\n",
    "    d -= learning_rate * grad_d\n",
    "    \n",
    "print('Result: y = {0} + {1} x + {2} x^2 + {3} x^3'.format(a, b, c, d))"
   ]
  },
  {
   "cell_type": "code",
   "execution_count": 6,
   "id": "periodic-climb",
   "metadata": {},
   "outputs": [],
   "source": [
    "import torch\n",
    "import math"
   ]
  },
  {
   "cell_type": "code",
   "execution_count": 7,
   "id": "conscious-mercy",
   "metadata": {},
   "outputs": [],
   "source": [
    "dtype = torch.float\n",
    "device = torch.device('cpu')"
   ]
  },
  {
   "cell_type": "code",
   "execution_count": 8,
   "id": "genetic-graph",
   "metadata": {},
   "outputs": [],
   "source": [
    "x =  torch.linspace(-math.pi, math.pi, 2000, device=device, dtype=dtype)\n",
    "y = torch.sin(x)"
   ]
  },
  {
   "cell_type": "code",
   "execution_count": 12,
   "id": "realistic-mississippi",
   "metadata": {},
   "outputs": [],
   "source": [
    "a = torch.randn((), device=device, dtype=dtype, requires_grad=True)\n",
    "b = torch.randn((), device=device, dtype=dtype, requires_grad=True)\n",
    "c = torch.randn((), device=device, dtype=dtype, requires_grad=True)\n",
    "d = torch.randn((), device=device, dtype=dtype, requires_grad=True)"
   ]
  },
  {
   "cell_type": "code",
   "execution_count": 14,
   "id": "dominant-nudist",
   "metadata": {},
   "outputs": [
    {
     "name": "stdout",
     "output_type": "stream",
     "text": [
      "99 9.188407897949219\n",
      "199 9.07501220703125\n",
      "299 8.996417999267578\n",
      "399 8.941885948181152\n",
      "499 8.904020309448242\n",
      "599 8.877699851989746\n",
      "699 8.85938835144043\n",
      "799 8.846638679504395\n",
      "899 8.83775520324707\n",
      "999 8.831558227539062\n",
      "1099 8.827235221862793\n",
      "1199 8.824213027954102\n",
      "1299 8.822101593017578\n",
      "1399 8.820626258850098\n",
      "1499 8.81959056854248\n",
      "1599 8.818868637084961\n",
      "1699 8.81836223602295\n",
      "1799 8.81800651550293\n",
      "1899 8.817756652832031\n",
      "1999 8.817583084106445\n",
      "Result; y = -0.000646816857624799 + 0.8569369316101074 x + 0.00011158666893607005 x^2 + -0.09335827827453613 x^3\n"
     ]
    }
   ],
   "source": [
    "for t in range(2000):\n",
    "    \n",
    "    y_pred = a + b * x + c * x**2 + d * x**3\n",
    "    \n",
    "    loss = (y_pred - y).pow(2).sum()\n",
    "    \n",
    "    if t % 100 == 99:\n",
    "        print(t, loss.item())\n",
    "    \n",
    "    loss.backward()\n",
    "    \n",
    "    with torch.no_grad():\n",
    "        a -= learning_rate * a.grad\n",
    "        b -= learning_rate * b.grad\n",
    "        c -= learning_rate * c.grad\n",
    "        d -= learning_rate * d.grad\n",
    "        \n",
    "        a.grad = None\n",
    "        b.grad = None\n",
    "        c.grad = None\n",
    "        d.grad = None\n",
    "        \n",
    "print('Result; y = {0} + {1} x + {2} x^2 + {3} x^3'.format(a.item(), b.item(), c.item(), d.item()))"
   ]
  },
  {
   "cell_type": "code",
   "execution_count": 15,
   "id": "weird-glenn",
   "metadata": {},
   "outputs": [],
   "source": [
    "import torch\n",
    "import math"
   ]
  },
  {
   "cell_type": "code",
   "execution_count": 16,
   "id": "continued-october",
   "metadata": {},
   "outputs": [],
   "source": [
    "class LegendrePolynomial3(torch.autograd.Function):\n",
    "    \n",
    "    @staticmethod\n",
    "    def forward(ctx, input):\n",
    "        ctx.save_for_backward(input)\n",
    "        return 0.5 * (5 * input ** 3 - 3 * input)\n",
    "    \n",
    "    @staticmethod\n",
    "    def backward(ctx, grad_output):\n",
    "        input, = ctx.saved_tensors\n",
    "        return grad_output * 1.5 * (5 * input ** 2 - 1)"
   ]
  },
  {
   "cell_type": "code",
   "execution_count": 18,
   "id": "closing-cinema",
   "metadata": {},
   "outputs": [],
   "source": [
    "dtype = torch.float\n",
    "device = torch.device('cpu')"
   ]
  },
  {
   "cell_type": "code",
   "execution_count": 19,
   "id": "quick-armenia",
   "metadata": {},
   "outputs": [],
   "source": [
    "x = torch.linspace(-math.pi, math.pi, 2000, device=device, dtype=dtype)\n",
    "y = torch.sin(x)"
   ]
  },
  {
   "cell_type": "code",
   "execution_count": 20,
   "id": "veterinary-colleague",
   "metadata": {},
   "outputs": [],
   "source": [
    "a = torch.full((), 0.0, device=device, dtype=dtype, requires_grad=True)\n",
    "b = torch.full((), -1.0, device=device, dtype=dtype, requires_grad=True)\n",
    "c = torch.full((), 0.0, device=device, dtype=dtype, requires_grad=True)\n",
    "d = torch.full((), 0.3, device=device, dtype=dtype, requires_grad=True)"
   ]
  },
  {
   "cell_type": "code",
   "execution_count": 21,
   "id": "disabled-melbourne",
   "metadata": {},
   "outputs": [
    {
     "name": "stdout",
     "output_type": "stream",
     "text": [
      "99 283.5877685546875\n",
      "199 262.7139587402344\n",
      "299 243.45401000976562\n",
      "399 225.67848205566406\n",
      "499 209.26953125\n",
      "599 194.1190185546875\n",
      "699 180.1279754638672\n",
      "799 167.20550537109375\n",
      "899 155.2681884765625\n",
      "999 144.2394256591797\n",
      "1099 134.04885864257812\n",
      "1199 124.63192749023438\n",
      "1299 115.928466796875\n",
      "1399 107.88375854492188\n",
      "1499 100.4473876953125\n",
      "1599 93.57270812988281\n",
      "1699 87.21684265136719\n",
      "1799 81.34027099609375\n",
      "1899 75.90643310546875\n",
      "1999 70.88169860839844\n",
      "Result; y = 2.248506270063899e-09 + -1.668351173400879 x + -9.817480162155334e-10 x^2 + 0.25102949142456055 x^3\n"
     ]
    }
   ],
   "source": [
    "for t in range(2000):\n",
    "    \n",
    "    P3 = LegendrePolynomial3.apply\n",
    "    \n",
    "    y_pred = a + b * P3(c + d * x)\n",
    "    \n",
    "    loss = (y_pred - y).pow(2).sum()\n",
    "    if t % 100 == 99:\n",
    "        print(t, loss.item())\n",
    "        \n",
    "    loss.backward()\n",
    "    \n",
    "    with torch.no_grad():\n",
    "        a -= learning_rate * a.grad\n",
    "        b -= learning_rate * b.grad\n",
    "        c -= learning_rate * c.grad\n",
    "        d -= learning_rate * d.grad\n",
    "        \n",
    "        a.grad = None\n",
    "        b.grad = None\n",
    "        c.grad = None\n",
    "        d.grad = None\n",
    "\n",
    "print('Result; y = {0} + {1} x + {2} x^2 + {3} x^3'.format(a.item(), b.item(), c.item(), d.item()))"
   ]
  },
  {
   "cell_type": "code",
   "execution_count": 22,
   "id": "differential-breed",
   "metadata": {},
   "outputs": [],
   "source": [
    "import torch\n",
    "import math"
   ]
  },
  {
   "cell_type": "code",
   "execution_count": 23,
   "id": "israeli-placement",
   "metadata": {},
   "outputs": [],
   "source": [
    "x = torch.linspace(-math.pi, math.pi, 2000)\n",
    "y = torch.sin(x)"
   ]
  },
  {
   "cell_type": "code",
   "execution_count": 28,
   "id": "approximate-secretariat",
   "metadata": {},
   "outputs": [
    {
     "data": {
      "text/plain": [
       "tensor([[-3.1416],\n",
       "        [-3.1384],\n",
       "        [-3.1353],\n",
       "        ...,\n",
       "        [ 3.1353],\n",
       "        [ 3.1384],\n",
       "        [ 3.1416]])"
      ]
     },
     "execution_count": 28,
     "metadata": {},
     "output_type": "execute_result"
    }
   ],
   "source": [
    "x.unsqueeze(1)"
   ]
  },
  {
   "cell_type": "code",
   "execution_count": 30,
   "id": "timely-intersection",
   "metadata": {},
   "outputs": [
    {
     "name": "stdout",
     "output_type": "stream",
     "text": [
      "99 951.4732055664062\n",
      "199 638.770751953125\n",
      "299 430.0601806640625\n",
      "399 290.6804504394531\n",
      "499 197.54603576660156\n",
      "599 135.27479553222656\n",
      "699 93.6124267578125\n",
      "799 65.71971130371094\n",
      "899 47.0324821472168\n",
      "999 34.50352096557617\n",
      "1099 26.097009658813477\n",
      "1199 20.45201301574707\n",
      "1299 16.658281326293945\n",
      "1399 14.106559753417969\n",
      "1499 12.388689994812012\n",
      "1599 11.231149673461914\n",
      "1699 10.450419425964355\n",
      "1799 9.923356056213379\n",
      "1899 9.567174911499023\n",
      "1999 9.326231002807617\n",
      "result: y = 0.014969327487051487 + 0.8396514058113098 x + -0.0025824592448771 x^2 + -0.09089955687522888 x^3\n"
     ]
    }
   ],
   "source": [
    "p = torch.tensor([1, 2, 3])\n",
    "xx = x.unsqueeze(-1).pow(p)\n",
    "\n",
    "model = torch.nn.Sequential(\n",
    "    torch.nn.Linear(3, 1),\n",
    "    torch.nn.Flatten(0, 1)\n",
    ")\n",
    "\n",
    "loss_fn = torch.nn.MSELoss(reduction='sum')\n",
    "\n",
    "learning_tate = 1e-6\n",
    "\n",
    "for t in range(2000):\n",
    "    y_pred = model(xx)\n",
    "    \n",
    "    loss = loss_fn(y_pred, y)\n",
    "    if t % 100 == 99:\n",
    "        print(t, loss.item())\n",
    "        \n",
    "    model.zero_grad()\n",
    "    loss.backward()\n",
    "    \n",
    "    with torch.no_grad():\n",
    "        for param in model.parameters():\n",
    "            param -= learning_rate * param.grad\n",
    "\n",
    "linear_layer = model[0]\n",
    "\n",
    "print('result: y = {0} + {1} x + {2} x^2 + {3} x^3'.format(linear_layer.bias.item(), linear_layer.weight[:,0].item(), linear_layer.weight[:, 1].item(), linear_layer.weight[:, 2].item()))"
   ]
  },
  {
   "cell_type": "code",
   "execution_count": 31,
   "id": "violent-object",
   "metadata": {},
   "outputs": [],
   "source": [
    "import torch\n",
    "import math"
   ]
  },
  {
   "cell_type": "code",
   "execution_count": 42,
   "id": "automated-writer",
   "metadata": {},
   "outputs": [],
   "source": [
    "x = torch.linspace(-math.pi, math.pi, 2000)\n",
    "y = torch.sin(x)\n",
    "\n",
    "p = torch.tensor([1, 2, 3])\n",
    "xx = x.unsqueeze(-1).pow(p)"
   ]
  },
  {
   "cell_type": "code",
   "execution_count": 43,
   "id": "medium-rebate",
   "metadata": {},
   "outputs": [],
   "source": [
    "model = torch.nn.Sequential(\n",
    "    torch.nn.Linear(3, 1),\n",
    "    torch.nn.Flatten(0, 1)\n",
    ")\n",
    "\n",
    "loss_fn = torch.nn.MSELoss(reduction='sum')"
   ]
  },
  {
   "cell_type": "code",
   "execution_count": 44,
   "id": "unusual-antique",
   "metadata": {},
   "outputs": [
    {
     "name": "stdout",
     "output_type": "stream",
     "text": [
      "99 24128.580078125\n",
      "199 10401.4140625\n",
      "299 4046.9052734375\n",
      "399 1586.8270263671875\n",
      "499 948.77587890625\n",
      "599 802.5136108398438\n",
      "699 690.7147216796875\n",
      "799 566.9674682617188\n",
      "899 444.834716796875\n",
      "999 335.24774169921875\n",
      "1099 242.3511962890625\n",
      "1199 166.78207397460938\n",
      "1299 108.0138168334961\n",
      "1399 64.95668029785156\n",
      "1499 36.06210708618164\n",
      "1599 19.24541473388672\n",
      "1699 11.684581756591797\n",
      "1799 9.431329727172852\n",
      "1899 9.013789176940918\n",
      "1999 8.893922805786133\n",
      "result: y = 1.0563090402371245e-09 + 0.8566179275512695 x + -8.339277712821058e-09 x^2 + -0.09280619025230408 x^3\n"
     ]
    }
   ],
   "source": [
    "learning_rate = 1e-3\n",
    "optimizer = torch.optim.RMSprop(model.parameters(), lr=learning_rate)\n",
    "\n",
    "for t in range(2000):\n",
    "    y_pred = model(xx)\n",
    "    \n",
    "    loss = loss_fn(y_pred, y)\n",
    "    if t % 100 == 99:\n",
    "        print(t, loss.item())\n",
    "    \n",
    "    optimizer.zero_grad()\n",
    "    loss.backward()\n",
    "    \n",
    "    optimizer.step()\n",
    "    \n",
    "linear_layer = model[0]\n",
    "\n",
    "print('result: y = {0} + {1} x + {2} x^2 + {3} x^3'.format(linear_layer.bias.item(), linear_layer.weight[:,0].item(), linear_layer.weight[:, 1].item(), linear_layer.weight[:, 2].item()))"
   ]
  },
  {
   "cell_type": "code",
   "execution_count": 45,
   "id": "furnished-payroll",
   "metadata": {},
   "outputs": [],
   "source": [
    "import torch\n",
    "import math"
   ]
  },
  {
   "cell_type": "code",
   "execution_count": null,
   "id": "frozen-heart",
   "metadata": {},
   "outputs": [],
   "source": [
    "class Polynomial3(torch.nn.Module):\n",
    "    \n",
    "    def __init__(self):        \n",
    "        super().__init__()\n",
    "        self.a = torch.nn.Parameter(torch.randn())\n",
    "        self.b = torch.nn.Parameter(torch.randn())\n",
    "        self.c = torch.nn.Parameter(torch.randn())\n",
    "        self.d = torch.nn.Parameter(torch.randn())\n",
    "        \n",
    "    def forward(self, x):        \n",
    "        return self.a + self.b * x + self.c + x ** 2 + self.d * x ** 3\n",
    "    \n",
    "    def string(self):\n",
    "        return "
   ]
  }
 ],
 "metadata": {
  "kernelspec": {
   "display_name": "Python 3",
   "language": "python",
   "name": "python3"
  },
  "language_info": {
   "codemirror_mode": {
    "name": "ipython",
    "version": 3
   },
   "file_extension": ".py",
   "mimetype": "text/x-python",
   "name": "python",
   "nbconvert_exporter": "python",
   "pygments_lexer": "ipython3",
   "version": "3.7.7"
  }
 },
 "nbformat": 4,
 "nbformat_minor": 5
}
